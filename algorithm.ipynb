{
 "cells": [
  {
   "cell_type": "markdown",
   "id": "d111c18d",
   "metadata": {},
   "source": [
    "# Energy renovation project for a building"
   ]
  },
  {
   "cell_type": "markdown",
   "id": "19ce864e",
   "metadata": {},
   "source": [
    "#### Package import"
   ]
  },
  {
   "cell_type": "code",
   "execution_count": 1,
   "id": "960b71a4",
   "metadata": {},
   "outputs": [],
   "source": [
    "import random\n",
    "import numpy as np\n",
    "import pandas as pd"
   ]
  },
  {
   "cell_type": "markdown",
   "id": "e0f681df",
   "metadata": {},
   "source": [
    "#### Inputs\n",
    "Here you can change the values for investment costs, number of building elements and the m number, which is defined for the normalized problem as the maximum count of measures over all building elements."
   ]
  },
  {
   "cell_type": "code",
   "execution_count": 2,
   "id": "3474529f",
   "metadata": {},
   "outputs": [],
   "source": [
    "# The total renovation investment costs\n",
    "Inv = 1000\n",
    "# the total number of building elements\n",
    "n = 10\n",
    "# the maximum count of measures over all building elements for a normalized problem \n",
    "m = 5"
   ]
  },
  {
   "cell_type": "markdown",
   "id": "79be38c1",
   "metadata": {},
   "source": [
    "#### Parameters of the measures \n",
    "Values related to material costs and heat loss costs after 20 years of usage are set randomly for experimental purposes. Their values can also be loaded from other data sources, such as CSV-files."
   ]
  },
  {
   "cell_type": "markdown",
   "id": "99037417",
   "metadata": {},
   "source": [
    "##### Experimental runs\n",
    "- Material costs are taken with 1 decimal point and generated using samples from a uniform distribution from low value of 50 to the highest value of 300 price unit\n",
    "- Heat loss costs after 20 years of usage from 10 to 1000 units"
   ]
  },
  {
   "cell_type": "code",
   "execution_count": 3,
   "id": "d1b261c3",
   "metadata": {},
   "outputs": [],
   "source": [
    "d = {\"e\": [], \"Kij\": [], \"Hij\": []}\n",
    "for i in range(n):\n",
    "    d[\"e\"].append(i)\n",
    "    # Material costs\n",
    "    d[\"Kij\"].append(np.round(np.random.uniform(low=50, high=300, size=(m-1,)), decimals=1))\n",
    "    # Heat loss costs TODO(\"Rethink low and high values\")\n",
    "    d[\"Hij\"].append(np.round(np.random.uniform(low=10, high=1000, size=(m,)), decimals=1))"
   ]
  },
  {
   "cell_type": "markdown",
   "id": "af8692e4",
   "metadata": {},
   "source": [
    "#### Step 1:\n",
    "\n",
    "As mentioned in the Condition 2 in README.md file, the renovation of a building element can be left out, limitation either due to no sufficient investment amount or because the impact of leaving the building element without any renovation is irrelevant.\n",
    "\n",
    "So, we should add 0.0 price unit to the dictionary d and consequently to the dataframe df."
   ]
  },
  {
   "cell_type": "code",
   "execution_count": 4,
   "id": "df4a06bf",
   "metadata": {},
   "outputs": [],
   "source": [
    "for i in range(len(d[\"Kij\"])):\n",
    "    d[\"Kij\"][i] = np.insert(d[\"Kij\"][i], [0], [0], axis=0)\n",
    "df = pd.DataFrame(data=d)"
   ]
  },
  {
   "cell_type": "markdown",
   "id": "7fa36979",
   "metadata": {},
   "source": [
    "##### Diplay the dataframe df"
   ]
  },
  {
   "cell_type": "code",
   "execution_count": 5,
   "id": "3cc22557",
   "metadata": {},
   "outputs": [
    {
     "data": {
      "text/html": [
       "<div>\n",
       "<style scoped>\n",
       "    .dataframe tbody tr th:only-of-type {\n",
       "        vertical-align: middle;\n",
       "    }\n",
       "\n",
       "    .dataframe tbody tr th {\n",
       "        vertical-align: top;\n",
       "    }\n",
       "\n",
       "    .dataframe thead th {\n",
       "        text-align: right;\n",
       "    }\n",
       "</style>\n",
       "<table border=\"1\" class=\"dataframe\">\n",
       "  <thead>\n",
       "    <tr style=\"text-align: right;\">\n",
       "      <th></th>\n",
       "      <th>e</th>\n",
       "      <th>Kij</th>\n",
       "      <th>Hij</th>\n",
       "    </tr>\n",
       "  </thead>\n",
       "  <tbody>\n",
       "    <tr>\n",
       "      <th>0</th>\n",
       "      <td>0</td>\n",
       "      <td>[0.0, 276.6, 239.7, 180.6, 109.5]</td>\n",
       "      <td>[56.5, 418.3, 300.0, 477.1, 104.4]</td>\n",
       "    </tr>\n",
       "    <tr>\n",
       "      <th>1</th>\n",
       "      <td>1</td>\n",
       "      <td>[0.0, 74.5, 102.1, 257.7, 156.3]</td>\n",
       "      <td>[134.8, 898.0, 625.5, 193.9, 788.1]</td>\n",
       "    </tr>\n",
       "    <tr>\n",
       "      <th>2</th>\n",
       "      <td>2</td>\n",
       "      <td>[0.0, 134.2, 80.6, 91.4, 59.8]</td>\n",
       "      <td>[694.0, 17.7, 152.0, 171.9, 794.9]</td>\n",
       "    </tr>\n",
       "    <tr>\n",
       "      <th>3</th>\n",
       "      <td>3</td>\n",
       "      <td>[0.0, 124.8, 246.2, 190.2, 104.9]</td>\n",
       "      <td>[651.6, 414.8, 131.2, 65.4, 245.9]</td>\n",
       "    </tr>\n",
       "    <tr>\n",
       "      <th>4</th>\n",
       "      <td>4</td>\n",
       "      <td>[0.0, 211.0, 123.3, 202.9, 59.3]</td>\n",
       "      <td>[493.2, 423.9, 251.9, 494.0, 408.6]</td>\n",
       "    </tr>\n",
       "  </tbody>\n",
       "</table>\n",
       "</div>"
      ],
      "text/plain": [
       "   e                                Kij                                  Hij\n",
       "0  0  [0.0, 276.6, 239.7, 180.6, 109.5]   [56.5, 418.3, 300.0, 477.1, 104.4]\n",
       "1  1   [0.0, 74.5, 102.1, 257.7, 156.3]  [134.8, 898.0, 625.5, 193.9, 788.1]\n",
       "2  2     [0.0, 134.2, 80.6, 91.4, 59.8]   [694.0, 17.7, 152.0, 171.9, 794.9]\n",
       "3  3  [0.0, 124.8, 246.2, 190.2, 104.9]   [651.6, 414.8, 131.2, 65.4, 245.9]\n",
       "4  4   [0.0, 211.0, 123.3, 202.9, 59.3]  [493.2, 423.9, 251.9, 494.0, 408.6]"
      ]
     },
     "execution_count": 5,
     "metadata": {},
     "output_type": "execute_result"
    }
   ],
   "source": [
    "df.head()"
   ]
  },
  {
   "cell_type": "markdown",
   "id": "3e19be95",
   "metadata": {},
   "source": [
    "#### Step 2: towards the fractional knapsack problem\n",
    "\n",
    "Find the indices in the dataframe of the greedy renovation measures. \n",
    "\n",
    "To do so, we calculate $\\min_{e}$ for each e building element. We define hereafter some helpers variables and find sort their values."
   ]
  },
  {
   "cell_type": "code",
   "execution_count": 6,
   "id": "89980cdb",
   "metadata": {},
   "outputs": [],
   "source": [
    "indices = []\n",
    "helper = []\n",
    "Min = []\n",
    "for i in df.index:\n",
    "    product = [km * kg for (km, kg) in zip(df[\"Kij\"][i], df[\"Hij\"][i])]\n",
    "    indices.append((i, product.index(min([value for value in product if value > 0]))))\n",
    "    helper.append(i)\n",
    "for i in df.index:\n",
    "    k = helper.index(i)\n",
    "    Min.append((i, np.round(df[\"Kij\"][i][indices[k][1]] * df[\"Hij\"][i][indices[k][1]], decimals=1)))"
   ]
  },
  {
   "cell_type": "markdown",
   "id": "64fe875c",
   "metadata": {},
   "source": [
    "#### Step 3: sort & reorder"
   ]
  },
  {
   "cell_type": "code",
   "execution_count": 7,
   "id": "a16418ac",
   "metadata": {},
   "outputs": [],
   "source": [
    "# sort ascendingly\n",
    "Min.sort(key=lambda x: x[1])\n",
    "dt = pd.DataFrame(data=Min)\n",
    "dt.columns = [\"e\", \"Min_e\"]"
   ]
  },
  {
   "cell_type": "markdown",
   "id": "52a8793f",
   "metadata": {},
   "source": [
    "##### Diplay the dataframe dt\n",
    "\n",
    "Note that the elements are well ascendingly sorted."
   ]
  },
  {
   "cell_type": "code",
   "execution_count": 8,
   "id": "e9fb1102",
   "metadata": {},
   "outputs": [
    {
     "data": {
      "text/html": [
       "<div>\n",
       "<style scoped>\n",
       "    .dataframe tbody tr th:only-of-type {\n",
       "        vertical-align: middle;\n",
       "    }\n",
       "\n",
       "    .dataframe tbody tr th {\n",
       "        vertical-align: top;\n",
       "    }\n",
       "\n",
       "    .dataframe thead th {\n",
       "        text-align: right;\n",
       "    }\n",
       "</style>\n",
       "<table border=\"1\" class=\"dataframe\">\n",
       "  <thead>\n",
       "    <tr style=\"text-align: right;\">\n",
       "      <th></th>\n",
       "      <th>e</th>\n",
       "      <th>Min_e</th>\n",
       "    </tr>\n",
       "  </thead>\n",
       "  <tbody>\n",
       "    <tr>\n",
       "      <th>0</th>\n",
       "      <td>2</td>\n",
       "      <td>2375.3</td>\n",
       "    </tr>\n",
       "    <tr>\n",
       "      <th>1</th>\n",
       "      <td>7</td>\n",
       "      <td>9764.2</td>\n",
       "    </tr>\n",
       "    <tr>\n",
       "      <th>2</th>\n",
       "      <td>5</td>\n",
       "      <td>10936.4</td>\n",
       "    </tr>\n",
       "    <tr>\n",
       "      <th>3</th>\n",
       "      <td>0</td>\n",
       "      <td>11431.8</td>\n",
       "    </tr>\n",
       "    <tr>\n",
       "      <th>4</th>\n",
       "      <td>3</td>\n",
       "      <td>12439.1</td>\n",
       "    </tr>\n",
       "  </tbody>\n",
       "</table>\n",
       "</div>"
      ],
      "text/plain": [
       "   e    Min_e\n",
       "0  2   2375.3\n",
       "1  7   9764.2\n",
       "2  5  10936.4\n",
       "3  0  11431.8\n",
       "4  3  12439.1"
      ]
     },
     "execution_count": 8,
     "metadata": {},
     "output_type": "execute_result"
    }
   ],
   "source": [
    "dt.head()"
   ]
  },
  {
   "cell_type": "markdown",
   "id": "8b4e0f79",
   "metadata": {},
   "source": [
    "#### Step 4:\n",
    "Invest Inv starting with the lowest value of $\\min_{e}$ with some help-variables"
   ]
  },
  {
   "cell_type": "code",
   "execution_count": 9,
   "id": "ba920a36",
   "metadata": {},
   "outputs": [
    {
     "name": "stdout",
     "output_type": "stream",
     "text": [
      "Renovation project's infos:\n",
      "\tThe number of building elements:\t10.\n",
      "\tThe total renovation investment costs:\t1000 price unit.\n",
      "\n",
      "Investement plan with ordered measures:\n",
      "\tRenovation measure 2\tKij = 134.2 price unit.\t\tHij = 17.7 price unit.\n",
      "\tRenovation measure 7\tKij = 121.9 price unit.\t\tHij = 80.1 price unit.\n",
      "\tRenovation measure 5\tKij = 149.2 price unit.\t\tHij = 73.3 price unit.\n",
      "\tRenovation measure 0\tKij = 109.5 price unit.\t\tHij = 104.4 price unit.\n",
      "\tRenovation measure 3\tKij = 190.2 price unit.\t\tHij = 65.4 price unit.\n",
      "\tRenovation measure 4\tKij = 59.3 price unit.\t\tHij = 408.6 price unit.\n",
      "\tRenovation measure 8\tKij = 209.1 price unit.\t\tHij = 144.1 price unit.\n",
      "\n",
      "\tNumber of chosen buiding elements for renovation: 7.\n",
      "\tInvested sum: 973.4 price unit.\n"
     ]
    }
   ],
   "source": [
    "# Display for the project's inputs:\n",
    "print(\"Renovation project's infos:\")\n",
    "print(\"\\tThe number of building elements:\\t{}.\".format(n))\n",
    "print(\"\\tThe total renovation investment costs:\\t{} price unit.\".format(Inv))\n",
    "# Display for the investement plan:\n",
    "print(\"\\nInvestement plan with ordered measures:\")\n",
    "count = 0\n",
    "toInvest = Inv\n",
    "sum = 0\n",
    "counter = 0\n",
    "while toInvest > 0 and count < len(Min):\n",
    "    flag = helper.index(Min[count][0])\n",
    "    if toInvest > df[\"Kij\"][Min[count][0]][indices[flag][1]]:\n",
    "        toInvest -= df[\"Kij\"][Min[count][0]][indices[flag][1]]\n",
    "        print(\n",
    "            \"\\tRenovation measure {}\\tKij = {} price unit.\\t\\tHij = {} price unit.\".format(Min[count][0], df[\"Kij\"][Min[count][0]][indices[flag][1]],\n",
    "                                     df[\"Hij\"][Min[count][0]][indices[flag][1]]))\n",
    "        sum += df[\"Kij\"][Min[count][0]][indices[flag][1]]\n",
    "        counter += 1\n",
    "    else:\n",
    "        pass\n",
    "    count += 1\n",
    "print(\"\\n\\tNumber of chosen buiding elements for renovation: {}.\".format(counter))\n",
    "print(\"\\tInvested sum: {} price unit.\".format(sum))"
   ]
  }
 ],
 "metadata": {
  "kernelspec": {
   "display_name": "Python 3 (ipykernel)",
   "language": "python",
   "name": "python3"
  },
  "language_info": {
   "codemirror_mode": {
    "name": "ipython",
    "version": 3
   },
   "file_extension": ".py",
   "mimetype": "text/x-python",
   "name": "python",
   "nbconvert_exporter": "python",
   "pygments_lexer": "ipython3",
   "version": "3.12.1"
  }
 },
 "nbformat": 4,
 "nbformat_minor": 5
}
