{
 "cells": [
  {
   "cell_type": "markdown",
   "id": "d111c18d",
   "metadata": {},
   "source": [
    "# Energy renovation project"
   ]
  },
  {
   "cell_type": "markdown",
   "id": "19ce864e",
   "metadata": {},
   "source": [
    "#### Package import"
   ]
  },
  {
   "cell_type": "code",
   "execution_count": 6,
   "id": "960b71a4",
   "metadata": {},
   "outputs": [],
   "source": [
    "import random\n",
    "import numpy as np\n",
    "import pandas as pd"
   ]
  },
  {
   "cell_type": "markdown",
   "id": "e0f681df",
   "metadata": {},
   "source": [
    "#### Inputs\n",
    "Here you can change the values for investment costs, number of building elements and the m number, which is defined for the normalized problem as the maximum count of measures over all building elements."
   ]
  },
  {
   "cell_type": "code",
   "execution_count": 7,
   "id": "3474529f",
   "metadata": {},
   "outputs": [],
   "source": [
    "# The total renovation investment costs\n",
    "Inv = 1000\n",
    "# the total number of building elements\n",
    "n = 10\n",
    "# the maximum count of measures over all building elements for a normalized problem \n",
    "m = 5"
   ]
  },
  {
   "cell_type": "markdown",
   "id": "79be38c1",
   "metadata": {},
   "source": [
    "#### Parameters of the measures \n",
    "Values related to material costs and heat loss costs after 20 years of usage are set randomly for experimental purposes. Their values can also be loaded from other data sources, such as CSV-files."
   ]
  },
  {
   "cell_type": "markdown",
   "id": "99037417",
   "metadata": {},
   "source": [
    "##### Experimental runs\n",
    "- Material costs are taken with 1 decimal point and generated using samples from a uniform distribution from low value of 50 to the highest value of 300 price unit\n",
    "- Heat loss costs after 20 years of usage from 10 to 1000 units"
   ]
  },
  {
   "cell_type": "code",
   "execution_count": 8,
   "id": "d1b261c3",
   "metadata": {},
   "outputs": [],
   "source": [
    "d = {\"e\": [], \"Kij\": [], \"Hij\": []}\n",
    "for i in range(n):\n",
    "    d[\"e\"].append(i)\n",
    "    # Material costs\n",
    "    d[\"Kij\"].append(np.round(np.random.uniform(low=50, high=300, size=(m-1,)), decimals=1))\n",
    "    # Heat loss costs TODO(\"Rethink low and high values\")\n",
    "    d[\"Hij\"].append(np.round(np.random.uniform(low=10, high=1000, size=(m,)), decimals=1))"
   ]
  },
  {
   "cell_type": "code",
   "execution_count": null,
   "id": "3dd50591",
   "metadata": {},
   "outputs": [],
   "source": []
  }
 ],
 "metadata": {
  "kernelspec": {
   "display_name": "Python 3",
   "language": "python",
   "name": "python3"
  },
  "language_info": {
   "codemirror_mode": {
    "name": "ipython",
    "version": 3
   },
   "file_extension": ".py",
   "mimetype": "text/x-python",
   "name": "python",
   "nbconvert_exporter": "python",
   "pygments_lexer": "ipython3",
   "version": "3.12.1"
  }
 },
 "nbformat": 4,
 "nbformat_minor": 5
}
